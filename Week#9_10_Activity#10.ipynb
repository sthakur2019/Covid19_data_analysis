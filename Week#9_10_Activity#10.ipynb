{
 "cells": [
  {
   "cell_type": "code",
   "execution_count": 100,
   "metadata": {},
   "outputs": [],
   "source": [
    "import urllib.request\n",
    "import urllib.parse\n",
    "from urllib.error import HTTPError,URLError\n",
    "import re\n",
    "import json\n",
    "import os"
   ]
  },
  {
   "cell_type": "code",
   "execution_count": 101,
   "metadata": {},
   "outputs": [],
   "source": [
    "api_key_file = os.getcwd() + '\\\\' + 'APIKeys.json'"
   ]
  },
  {
   "cell_type": "code",
   "execution_count": 102,
   "metadata": {},
   "outputs": [],
   "source": [
    "with open(api_key_file) as keyf:\n",
    "    d = keyf.read()\n",
    "    key = json.loads(d)\n",
    "    secretApiKey = key['OMDBAPIkey']"
   ]
  },
  {
   "cell_type": "code",
   "execution_count": 103,
   "metadata": {},
   "outputs": [],
   "source": [
    "serviceURL = \"http://www.omdbapi.com/?\""
   ]
  },
  {
   "cell_type": "code",
   "execution_count": 104,
   "metadata": {},
   "outputs": [],
   "source": [
    "apikey = \"&apikey=\" + secretApiKey"
   ]
  },
  {
   "cell_type": "code",
   "execution_count": 105,
   "metadata": {},
   "outputs": [],
   "source": [
    "def printMovieInfo(json_data):\n",
    "    for k,v in movie_data.items():\n",
    "        print(\"{} : {}\".format(k,v))"
   ]
  },
  {
   "cell_type": "code",
   "execution_count": 106,
   "metadata": {},
   "outputs": [],
   "source": [
    "def savePoster(json_data):\n",
    "    poster_url = json_data['Poster']\n",
    "    file_name = json_data['Title']\n",
    "    file_ext = poster_url.split('.')[-1]\n",
    "    full_file_name = os.getcwd() + \"\\\\\" +  file_name + '.' + file_ext\n",
    "    pos = urllib.request.urlopen(poster_url).read()\n",
    "    with open(full_file_name,'wb') as f:\n",
    "        f.write(pos)\n",
    "    return full_file_name"
   ]
  },
  {
   "cell_type": "code",
   "execution_count": 107,
   "metadata": {},
   "outputs": [],
   "source": [
    "def searchMovieData(MovieName):\n",
    "    final_url = serviceURL + urllib.parse.urlencode({'t':MovieName}) +apikey\n",
    "    \n",
    "    try:\n",
    "        uh = urllib.request.urlopen(final_url)\n",
    "        data = uh.read()\n",
    "        movie_data = json.loads(data)\n",
    "        if movie_data['Response'] == \"True\":\n",
    "            print(\"Saving Poster at local directory : {}\".format(savePoster(movie_data)))\n",
    "            print(\"*\"*30,\"Printing Data for {}\".format(MovieName),\"*\"*30)\n",
    "            printMovieInfo(movie_data)\n",
    "        else:\n",
    "            print(\"oops!!! Something went wrong, use json data to analyze {}\".format(movie_data))\n",
    "    except URLError as e:\n",
    "                  print(\"Error encountered : {}\".format(e))"
   ]
  },
  {
   "cell_type": "code",
   "execution_count": 109,
   "metadata": {},
   "outputs": [
    {
     "name": "stdout",
     "output_type": "stream",
     "text": [
      "Saving Poster at local directory : C:\\Users\\nasan\\Documents\\DSC540_Sohan\\Titanic.jpg\n",
      "****************************** Printing Data for Titanic ******************************\n",
      "Title : Titanic\n",
      "Year : 1997\n",
      "Rated : PG-13\n",
      "Released : 19 Dec 1997\n",
      "Runtime : 194 min\n",
      "Genre : Drama, Romance\n",
      "Director : James Cameron\n",
      "Writer : James Cameron\n",
      "Actors : Leonardo DiCaprio, Kate Winslet, Billy Zane, Kathy Bates\n",
      "Plot : A seventeen-year-old aristocrat falls in love with a kind but poor artist aboard the luxurious, ill-fated R.M.S. Titanic.\n",
      "Language : English, Swedish, Italian\n",
      "Country : USA\n",
      "Awards : Won 11 Oscars. Another 114 wins & 83 nominations.\n",
      "Poster : https://m.media-amazon.com/images/M/MV5BMDdmZGU3NDQtY2E5My00ZTliLWIzOTUtMTY4ZGI1YjdiNjk3XkEyXkFqcGdeQXVyNTA4NzY1MzY@._V1_SX300.jpg\n",
      "Ratings : [{'Source': 'Internet Movie Database', 'Value': '7.8/10'}, {'Source': 'Rotten Tomatoes', 'Value': '89%'}, {'Source': 'Metacritic', 'Value': '75/100'}]\n",
      "Metascore : 75\n",
      "imdbRating : 7.8\n",
      "imdbVotes : 1,004,959\n",
      "imdbID : tt0120338\n",
      "Type : movie\n",
      "DVD : 10 Sep 2012\n",
      "BoxOffice : N/A\n",
      "Production : Paramount Pictures\n",
      "Website : N/A\n",
      "Response : True\n"
     ]
    }
   ],
   "source": [
    "searchMovieData(\"Titanic\")"
   ]
  },
  {
   "cell_type": "code",
   "execution_count": 98,
   "metadata": {},
   "outputs": [
    {
     "name": "stdout",
     "output_type": "stream",
     "text": [
      "oops!!! Something went wrong, use json data to analyze {'Response': 'False', 'Error': 'Movie not found!'}\n"
     ]
    }
   ],
   "source": [
    "searchMovieData(\"Random_error\")"
   ]
  },
  {
   "cell_type": "code",
   "execution_count": null,
   "metadata": {},
   "outputs": [],
   "source": []
  }
 ],
 "metadata": {
  "kernelspec": {
   "display_name": "Python 3",
   "language": "python",
   "name": "python3"
  },
  "language_info": {
   "codemirror_mode": {
    "name": "ipython",
    "version": 3
   },
   "file_extension": ".py",
   "mimetype": "text/x-python",
   "name": "python",
   "nbconvert_exporter": "python",
   "pygments_lexer": "ipython3",
   "version": "3.7.6"
  }
 },
 "nbformat": 4,
 "nbformat_minor": 4
}
