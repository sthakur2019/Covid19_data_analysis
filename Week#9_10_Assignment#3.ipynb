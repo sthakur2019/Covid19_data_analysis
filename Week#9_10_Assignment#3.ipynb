{
 "cells": [
  {
   "cell_type": "code",
   "execution_count": 1,
   "metadata": {},
   "outputs": [],
   "source": [
    "import twitter\n",
    "import json\n",
    "import os\n"
   ]
  },
  {
   "cell_type": "code",
   "execution_count": 3,
   "metadata": {},
   "outputs": [],
   "source": [
    "apikeyfile = os.getcwd() + \"\\\\\" + \"APIKeys.json\""
   ]
  },
  {
   "cell_type": "code",
   "execution_count": 4,
   "metadata": {},
   "outputs": [],
   "source": [
    "with open(apikeyfile,'r') as kf:\n",
    "    data = kf.read()\n",
    "    json_key = json.loads(data)"
   ]
  },
  {
   "cell_type": "code",
   "execution_count": 5,
   "metadata": {},
   "outputs": [],
   "source": [
    "consumerapikey = json_key['consumerapikey']\n",
    "consumersecretkey = json_key['consumersecretkey']\n",
    "Accesstokenkey = json_key['Accesstokenkey']\n",
    "AccesstokenSecretKey = json_key['AccesstokenSecretKey']"
   ]
  },
  {
   "cell_type": "code",
   "execution_count": 6,
   "metadata": {},
   "outputs": [],
   "source": [
    "api = twitter.Api(consumer_key = consumerapikey,consumer_secret = consumersecretkey,access_token_key = Accesstokenkey,access_token_secret = AccesstokenSecretKey)"
   ]
  },
  {
   "cell_type": "code",
   "execution_count": 7,
   "metadata": {},
   "outputs": [
    {
     "data": {
      "text/plain": [
       "[Status(ID=1261783516158799872, ScreenName=vbelcaster15, Created=Sat May 16 22:20:07 +0000 2020, Text='RT @CoachAylward: Bellevue University athletes!  New workout program will hit your email this week!'),\n",
       " Status(ID=1261770817387585537, ScreenName=thinmanx11, Created=Sat May 16 21:29:40 +0000 2020, Text='RT @CoachAylward: Bellevue University athletes!  New workout program will hit your email this week!'),\n",
       " Status(ID=1261745598283251718, ScreenName=bellevue_xc, Created=Sat May 16 19:49:27 +0000 2020, Text='RT @CoachAylward: Bellevue University athletes!  New workout program will hit your email this week!'),\n",
       " Status(ID=1261722705839128579, ScreenName=CoachAylward, Created=Sat May 16 18:18:29 +0000 2020, Text='Bellevue University athletes!  New workout program will hit your email this week!'),\n",
       " Status(ID=1261674695415472135, ScreenName=ForsythTechCC, Created=Sat May 16 15:07:42 +0000 2020, Text='What’s next after you earn your associate degree from Forsyth Tech? We’re here to help, along with our one of our p… https://t.co/AWuSS8TBma'),\n",
       " Status(ID=1261494228183638016, ScreenName=BrianRosian, Created=Sat May 16 03:10:36 +0000 2020, Text=\"Bellevue 🏈 vs University school in round 5 of the helmet contest they can't beat us on the field were it counts now… https://t.co/tsoLHAGP1V\"),\n",
       " Status(ID=1261493437733404673, ScreenName=almondfam, Created=Sat May 16 03:07:27 +0000 2020, Text='RT @ReiverSoftball: Kayla will be attending Bellevue University to continue her academics. \\n\\nCongrats Kayla!\\n\\n#GoReivers #SailsUp #StudentA…'),\n",
       " Status(ID=1261457326122418176, ScreenName=ALHSVollleyball, Created=Sat May 16 00:43:57 +0000 2020, Text='RT @ReiverSoftball: Kayla will be attending Bellevue University to continue her academics. \\n\\nCongrats Kayla!\\n\\n#GoReivers #SailsUp #StudentA…'),\n",
       " Status(ID=1261384590846877696, ScreenName=Kaayla123_, Created=Fri May 15 19:54:56 +0000 2020, Text='RT @ReiverSoftball: Kayla will be attending Bellevue University to continue her academics. \\n\\nCongrats Kayla!\\n\\n#GoReivers #SailsUp #StudentA…'),\n",
       " Status(ID=1261384412584951811, ScreenName=ssydneymccorkle, Created=Fri May 15 19:54:14 +0000 2020, Text='RT @ReiverSoftball: Kayla will be attending Bellevue University to continue her academics. \\n\\nCongrats Kayla!\\n\\n#GoReivers #SailsUp #StudentA…'),\n",
       " Status(ID=1261384374219505665, ScreenName=ALHSathletics, Created=Fri May 15 19:54:04 +0000 2020, Text='RT @ReiverSoftball: Kayla will be attending Bellevue University to continue her academics. \\n\\nCongrats Kayla!\\n\\n#GoReivers #SailsUp #StudentA…'),\n",
       " Status(ID=1261384191486431236, ScreenName=RILEEFILIP, Created=Fri May 15 19:53:21 +0000 2020, Text='RT @ReiverSoftball: Kayla will be attending Bellevue University to continue her academics. \\n\\nCongrats Kayla!\\n\\n#GoReivers #SailsUp #StudentA…'),\n",
       " Status(ID=1261384113908363264, ScreenName=ReiverSoftball, Created=Fri May 15 19:53:02 +0000 2020, Text='Kayla will be attending Bellevue University to continue her academics. \\n\\nCongrats Kayla!\\n\\n#GoReivers #SailsUp… https://t.co/J0wUlu4lRB'),\n",
       " Status(ID=1261339342418644993, ScreenName=thirtytwoedu, Created=Fri May 15 16:55:08 +0000 2020, Text='Some trends of note that have emerged in recent days:\\n\\n1. Virtual Internships\\n2. MBA programs embedded in the entre… https://t.co/9fjtxWqCx5')]"
      ]
     },
     "execution_count": 7,
     "metadata": {},
     "output_type": "execute_result"
    }
   ],
   "source": [
    "api.GetSearch(term = \"Bellevue University\")"
   ]
  },
  {
   "cell_type": "code",
   "execution_count": 8,
   "metadata": {},
   "outputs": [
    {
     "data": {
      "text/plain": [
       "[Status(ID=1261580396833226752, ScreenName=devisridhar, Created=Sat May 16 08:53:00 +0000 2020, Text='I don’t think there is scientific basis to say this for all of the UK without real-time data on transmission &amp; dail… https://t.co/GoNJzurCPW'),\n",
       " Status(ID=1261700553156882433, ScreenName=jasonrantz, Created=Sat May 16 16:50:27 +0000 2020, Text='Inslee is an incompetent disaster. He says science and data as many times as he can,  but never cites it. \\n\\nMeanwhi… https://t.co/xFG7Z0GdBl'),\n",
       " Status(ID=1261430983791796230, ScreenName=paimadhu, Created=Fri May 15 22:59:17 +0000 2020, Text=\"Heard someone mention that WHO did a 'flip-flop' on something.\\n\\nI don't like this term when its come to evidence &amp;… https://t.co/bkwbKsFM4N\"),\n",
       " Status(ID=1261844407923494912, ScreenName=MILTONESPINOZAF, Created=Sun May 17 02:22:05 +0000 2020, Text='RT @DrJudyAMikovits: \"I\\'ll go to Congress tomorrow and support everything I\\'ve said with data. In this country we don\\'t silence discussion…'),\n",
       " Status(ID=1261844396498132993, ScreenName=EricSchles, Created=Sun May 17 02:22:02 +0000 2020, Text='RT @PhDemetri: Working at a bank is cool because you get to hear of very neat data science stories.\\n\\nHere is one about classification and o…'),\n",
       " Status(ID=1261844349928833024, ScreenName=stevefromthesea, Created=Sun May 17 02:21:51 +0000 2020, Text=\"@bull_japanese Can't speak for all branches of academia, but MOOCs still receive plenty of attention in the Machine… https://t.co/jWgCDtlIkU\"),\n",
       " Status(ID=1261844257079468035, ScreenName=1ChristWarrior, Created=Sun May 17 02:21:29 +0000 2020, Text='RT @DrJudyAMikovits: \"I\\'ll go to Congress tomorrow and support everything I\\'ve said with data. In this country we don\\'t silence discussion…'),\n",
       " Status(ID=1261844240142938112, ScreenName=Natashasleeps, Created=Sun May 17 02:21:25 +0000 2020, Text='RT @DrJudyAMikovits: \"I\\'ll go to Congress tomorrow and support everything I\\'ve said with data. In this country we don\\'t silence discussion…'),\n",
       " Status(ID=1261844207410597888, ScreenName=JohnAALogan, Created=Sun May 17 02:21:17 +0000 2020, Text='RT @d_mos77: @ASWinstone @mikeoldmac @b_v_z @RTUKnews ONS stats are deceiving, they record deaths not as they happen but as the data comes…'),\n",
       " Status(ID=1261844133993492485, ScreenName=JodieC20, Created=Sun May 17 02:21:00 +0000 2020, Text='RT @DrJudyAMikovits: \"I\\'ll go to Congress tomorrow and support everything I\\'ve said with data. In this country we don\\'t silence discussion…'),\n",
       " Status(ID=1261844131564879878, ScreenName=aceofcups5, Created=Sun May 17 02:20:59 +0000 2020, Text=\"@RMConservative It's insane. The data shows very low risk but it doesn't matter what the science says. This feels v… https://t.co/0PsFlER0Rn\"),\n",
       " Status(ID=1261844092302098432, ScreenName=Nour_A96, Created=Sun May 17 02:20:50 +0000 2020, Text='Introduction to Genomic Technologies\\nكورس مجاني في منصة Coursera# مقدم من جامعة Johns Hopkins University, مدتة 4 اس… https://t.co/WQdbTWbo3c'),\n",
       " Status(ID=1261844068646236160, ScreenName=NISS_DataSci, Created=Sun May 17 02:20:44 +0000 2020, Text='RSVP: https://t.co/TNVpnuPgSa https://t.co/HGrCZye59d'),\n",
       " Status(ID=1261844004993294338, ScreenName=John96384709, Created=Sun May 17 02:20:29 +0000 2020, Text='RT @DrJudyAMikovits: \"I\\'ll go to Congress tomorrow and support everything I\\'ve said with data. In this country we don\\'t silence discussion…'),\n",
       " Status(ID=1261843997158506496, ScreenName=RealCarlGoodwin, Created=Sun May 17 02:20:27 +0000 2020, Text='RT @DrJudyAMikovits: \"I\\'ll go to Congress tomorrow and support everything I\\'ve said with data. In this country we don\\'t silence discussion…')]"
      ]
     },
     "execution_count": 8,
     "metadata": {},
     "output_type": "execute_result"
    }
   ],
   "source": [
    "api.GetSearch(term = \"Data Science\")"
   ]
  },
  {
   "cell_type": "code",
   "execution_count": null,
   "metadata": {},
   "outputs": [],
   "source": []
  }
 ],
 "metadata": {
  "kernelspec": {
   "display_name": "Python 3",
   "language": "python",
   "name": "python3"
  },
  "language_info": {
   "codemirror_mode": {
    "name": "ipython",
    "version": 3
   },
   "file_extension": ".py",
   "mimetype": "text/x-python",
   "name": "python",
   "nbconvert_exporter": "python",
   "pygments_lexer": "ipython3",
   "version": "3.7.6"
  }
 },
 "nbformat": 4,
 "nbformat_minor": 4
}
